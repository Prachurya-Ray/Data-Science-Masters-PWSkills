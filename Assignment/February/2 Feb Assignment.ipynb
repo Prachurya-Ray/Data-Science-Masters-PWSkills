{
 "cells": [
  {
   "cell_type": "code",
   "execution_count": 5,
   "id": "56116104",
   "metadata": {},
   "outputs": [
    {
     "name": "stdout",
     "output_type": "stream",
     "text": [
      "5\n",
      "[1, 2, 3, 4, 5]\n"
     ]
    }
   ],
   "source": [
    "# 1. Explain with an example each when to use a while loop and for loop\n",
    "\n",
    "# While Loop - It is used when we want to run a loop till the condition satisfies.\n",
    "#Program Starts\n",
    "flag=True\n",
    "i=0\n",
    "while(flag):\n",
    "    i=i+1\n",
    "    if(i==5):\n",
    "        flag=False\n",
    "print(i)\n",
    "\n",
    "# For Loop - It is used when we have to iterate over a range of value or list etc. \n",
    "list=[1,2,3,4,5]\n",
    "for i in list:\n",
    "    i=i*2\n",
    "print(list)"
   ]
  },
  {
   "cell_type": "code",
   "execution_count": 8,
   "id": "6909cd15",
   "metadata": {},
   "outputs": [
    {
     "name": "stdout",
     "output_type": "stream",
     "text": [
      " Using For Loop Sum :  55  and Product :  3628800\n",
      " Using For While Sum :  55  and Product :  3628800\n"
     ]
    }
   ],
   "source": [
    "# 2. Find sum and product of 1st 10 natural number using for and while loop.\n",
    "\n",
    "# For Loop\n",
    "sum=0\n",
    "product=1\n",
    "for i in range(1,11):\n",
    "    sum=sum+i\n",
    "    product=product*i\n",
    "print(\" Using For Loop Sum : \",sum,\" and Product : \",product)\n",
    "\n",
    "# While Loop\n",
    "i=1\n",
    "sum=0\n",
    "product=1\n",
    "while(i<11):\n",
    "    sum=sum+i\n",
    "    product=product*i\n",
    "    i=i+1\n",
    "print(\" Using For While Sum : \",sum,\" and Product : \",product)    "
   ]
  },
  {
   "cell_type": "code",
   "execution_count": 11,
   "id": "e2e7f07c",
   "metadata": {},
   "outputs": [
    {
     "name": "stdout",
     "output_type": "stream",
     "text": [
      "Enter Bill Amount : 310\n",
      "Your Total Bill :  2250.0\n"
     ]
    }
   ],
   "source": [
    "# 3. Elctric Bill of a house\n",
    "\n",
    "# Program Starts\n",
    "bill=int(input(\"Enter Bill Amount : \"))\n",
    "sum=0\n",
    "charge=[4.5,6,10,20]\n",
    "i=0\n",
    "while(bill>0):\n",
    "    \n",
    "    # For bill above 300 unit\n",
    "    if(i==3):\n",
    "        sum=sum+bill*charge[i]\n",
    "        break\n",
    "        \n",
    "    # For bill below 100 unit\n",
    "    elif(bill<100):\n",
    "        sum=sum+bill*charge[i]\n",
    "        break\n",
    "        \n",
    "    else:\n",
    "        sum=sum+100*charge[i]\n",
    "        bill=bill-100\n",
    "    i=i+1\n",
    "print(\"Your Total Bill : \",sum)"
   ]
  },
  {
   "cell_type": "code",
   "execution_count": 7,
   "id": "e7102729",
   "metadata": {},
   "outputs": [
    {
     "name": "stdout",
     "output_type": "stream",
     "text": [
      "Using For Loop :  [2, 4, 5, 6, 8, 10, 12, 14, 15, 16, 18, 20, 22, 24, 25, 26, 28, 30, 32, 34, 35, 36, 38, 40, 42, 44, 45, 46, 48, 50, 52, 54, 55, 56, 58, 60, 62, 64, 65, 66, 68, 70, 72, 74, 75, 76, 78, 80, 82, 84, 85, 86, 88, 90, 92, 94, 95, 96, 98, 100]\n",
      "\n",
      "Using While Loop :  [2, 4, 5, 6, 8, 10, 12, 14, 15, 16, 18, 20, 22, 24, 25, 26, 28, 30, 32, 34, 35, 36, 38, 40, 42, 44, 45, 46, 48, 50, 52, 54, 55, 56, 58, 60, 62, 64, 65, 66, 68, 70, 72, 74, 75, 76, 78, 80, 82, 84, 85, 86, 88, 90, 92, 94, 95, 96, 98, 100]\n"
     ]
    }
   ],
   "source": [
    "# 4. Create a list of number from 1 to 100. Append to another list if its cube is divisible by 4 or 5.\n",
    "\n",
    "# For Loop\n",
    "l=list(range(1,101))\n",
    "n=[]\n",
    "for i in l:\n",
    "    temp=i**3\n",
    "    if(temp%4==0 or temp%5==0):\n",
    "        n.append(i)\n",
    "print(\"Using For Loop : \",n)\n",
    "\n",
    "#Giving Space\n",
    "print()\n",
    "\n",
    "# While Loop\n",
    "l=list(range(1,101))\n",
    "n=[]\n",
    "i=0\n",
    "while(i<100):\n",
    "    temp=l[i]**3\n",
    "    if(temp%4==0 or temp%5==0):\n",
    "        n.append(l[i])\n",
    "    i=i+1\n",
    "print(\"Using While Loop : \",n)    "
   ]
  },
  {
   "cell_type": "code",
   "execution_count": 15,
   "id": "d7856ed4",
   "metadata": {},
   "outputs": [
    {
     "name": "stdout",
     "output_type": "stream",
     "text": [
      "Total Vowels are :  12\n"
     ]
    }
   ],
   "source": [
    "# 5. Write a program to filter count vowels \n",
    "\n",
    "# Program Starts\n",
    "string = \"I want to become a data scientist\"\n",
    "string=string.upper()\n",
    "count=0\n",
    "for i in string:\n",
    "    if(i=='A' or i=='E' or i=='I' or i=='O' or i=='U'):\n",
    "        count=count+1\n",
    "print(\"Total Vowels are : \",count)"
   ]
  },
  {
   "cell_type": "code",
   "execution_count": null,
   "id": "bbabe365",
   "metadata": {},
   "outputs": [],
   "source": []
  }
 ],
 "metadata": {
  "kernelspec": {
   "display_name": "Python 3 (ipykernel)",
   "language": "python",
   "name": "python3"
  },
  "language_info": {
   "codemirror_mode": {
    "name": "ipython",
    "version": 3
   },
   "file_extension": ".py",
   "mimetype": "text/x-python",
   "name": "python",
   "nbconvert_exporter": "python",
   "pygments_lexer": "ipython3",
   "version": "3.9.13"
  }
 },
 "nbformat": 4,
 "nbformat_minor": 5
}
