{
 "cells": [
  {
   "cell_type": "code",
   "execution_count": 31,
   "id": "d18438b1",
   "metadata": {},
   "outputs": [
    {
     "name": "stdout",
     "output_type": "stream",
     "text": [
      "[('Virat Kohli', 24936), ('Jack Kallis', 25534), ('Ricky Ponting', 27483), ('Sachin Tendulkar', 34357)]\n"
     ]
    }
   ],
   "source": [
    "# 1. Create a python program to sort the given list of tuples based on integer value using a\n",
    "#    lambda function. \n",
    "#    [('Sachin Tendulkar', 34357), ('Ricky Ponting', 27483), \n",
    "#    ('Jack Kallis', 25534), ('Virat Kohli', 24936)]\n",
    "\n",
    "#program starts\n",
    "l=[('Sachin Tendulkar', 34357), ('Ricky Ponting', 27483), ('Jack Kallis', 25534), ('Virat Kohli', 24936)]\n",
    "a=lambda x: x[1]\n",
    "l.sort(key=a)\n",
    "print(l)\n"
   ]
  },
  {
   "cell_type": "code",
   "execution_count": 6,
   "id": "ac0fb43e",
   "metadata": {},
   "outputs": [
    {
     "data": {
      "text/plain": [
       "[1, 4, 9, 16, 25, 36, 49, 64, 81, 100]"
      ]
     },
     "execution_count": 6,
     "metadata": {},
     "output_type": "execute_result"
    }
   ],
   "source": [
    "# 2. Write a Python Program to find the squares of all the numbers in the given list of \n",
    "#    integers using lambda and map functions. [1,2,3,4,5,6,7,8,9,10]\n",
    "\n",
    "#program starts\n",
    "l=[1,2,3,4,5,6,7,8,9,10]\n",
    "list(map(lambda x : x**2 , l))\n"
   ]
  },
  {
   "cell_type": "code",
   "execution_count": 5,
   "id": "c6f6e0f3",
   "metadata": {},
   "outputs": [
    {
     "data": {
      "text/plain": [
       "('1', '2', '3', '4', '5', '6', '7', '8', '9', '10')"
      ]
     },
     "execution_count": 5,
     "metadata": {},
     "output_type": "execute_result"
    }
   ],
   "source": [
    "# 3. Write a python program to convert the given list of integers into a tuple of strings. \n",
    "#    Use map and lambda functions. [1,2,3,4,5,6,7,8,9,10]\n",
    "\n",
    "#program starts\n",
    "l=[1,2,3,4,5,6,7,8,9,10]\n",
    "tuple(str(i) for i in l)\n"
   ]
  },
  {
   "cell_type": "code",
   "execution_count": 10,
   "id": "2fbbfb0e",
   "metadata": {},
   "outputs": [
    {
     "data": {
      "text/plain": [
       "15511210043330985984000000"
      ]
     },
     "execution_count": 10,
     "metadata": {},
     "output_type": "execute_result"
    }
   ],
   "source": [
    "# 4. Write a python program using reduce function to compute the product of a list \n",
    "#    containing numbers from 1 to 25.\n",
    "\n",
    "#program starts\n",
    "from functools import reduce   # importing reduce() from functools library\n",
    "l=[i for i in range(1,26)]\n",
    "reduce(lambda x,y:x*y, l)"
   ]
  },
  {
   "cell_type": "code",
   "execution_count": 13,
   "id": "57ae5591",
   "metadata": {},
   "outputs": [
    {
     "data": {
      "text/plain": [
       "[6, 60, 90, 120]"
      ]
     },
     "execution_count": 13,
     "metadata": {},
     "output_type": "execute_result"
    }
   ],
   "source": [
    "# 5. Write a python program to filter the numbers in a given list that are divisible by 2 \n",
    "#    and 3 using the filter function. [2, 3, 6, 9, 27, 60, 90, 120, 55, 46]\n",
    "\n",
    "#program starts\n",
    "l=[2, 3, 6, 9, 27, 60, 90, 120, 55, 46]\n",
    "list(filter(lambda x: x%6 == 0, l))     # any number divisible by both 2 and 3 is divisible by 6"
   ]
  },
  {
   "cell_type": "code",
   "execution_count": 15,
   "id": "da057fe1",
   "metadata": {},
   "outputs": [
    {
     "data": {
      "text/plain": [
       "['php', 'aba', 'radar', 'level']"
      ]
     },
     "execution_count": 15,
     "metadata": {},
     "output_type": "execute_result"
    }
   ],
   "source": [
    "# 6. Write a python program to find palindromes in the given list of strings using \n",
    "#    lambda and filter function. ['python', 'php', 'aba', 'radar', 'level']\n",
    "\n",
    "#program starts\n",
    "l=['python', 'php', 'aba', 'radar', 'level']\n",
    "list(filter(lambda x:x==x[::-1], l))"
   ]
  },
  {
   "cell_type": "code",
   "execution_count": null,
   "id": "934ee8be",
   "metadata": {},
   "outputs": [],
   "source": []
  }
 ],
 "metadata": {
  "kernelspec": {
   "display_name": "Python 3 (ipykernel)",
   "language": "python",
   "name": "python3"
  },
  "language_info": {
   "codemirror_mode": {
    "name": "ipython",
    "version": 3
   },
   "file_extension": ".py",
   "mimetype": "text/x-python",
   "name": "python",
   "nbconvert_exporter": "python",
   "pygments_lexer": "ipython3",
   "version": "3.9.13"
  }
 },
 "nbformat": 4,
 "nbformat_minor": 5
}
