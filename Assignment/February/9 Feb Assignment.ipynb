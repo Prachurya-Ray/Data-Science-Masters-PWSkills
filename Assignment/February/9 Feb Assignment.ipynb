{
 "cells": [
  {
   "cell_type": "code",
   "execution_count": 1,
   "id": "8bedfb7d",
   "metadata": {},
   "outputs": [],
   "source": [
    "# 1.  Create a vehicle class with an init method having instance variables as name_of_vehicle, \n",
    "#     max_speed and average_of_vehicle.\n",
    "\n",
    "# Program Starts\n",
    "class vehicle:\n",
    "    def __init__(self, name_of_vehicle, max_speed, average_of_vehicle):\n",
    "        self.name_of_vehicle=name_of_vehicle\n",
    "        self.max_speed=max_speed\n",
    "        self.average_of_vehicle=average_of_vehicle"
   ]
  },
  {
   "cell_type": "code",
   "execution_count": 8,
   "id": "c8518b22",
   "metadata": {},
   "outputs": [
    {
     "data": {
      "text/plain": [
       "('RR', 4)"
      ]
     },
     "execution_count": 8,
     "metadata": {},
     "output_type": "execute_result"
    }
   ],
   "source": [
    "# 2.  Create a child class car from the vehicle class created in Que 1, which will inherit the \n",
    "#     vehicle class. Create a method named seating_capacity which takes capacity as an argument \n",
    "#     and returns the name of the vehicle and its seating capacity\n",
    "\n",
    "# Program Starts\n",
    "class car(vehicle):\n",
    "    def __init__(self, name_of_vehicle, max_speed, average_of_vehicle):\n",
    "        #invoking the __init__ of parent class\n",
    "        vehicle.__init__(self, name_of_vehicle, max_speed, average_of_vehicle)\n",
    "    def seating_capacity(self, capacity):\n",
    "        return self.name_of_vehicle, capacity\n",
    "    \n",
    "obj=car(\"RR\", 250, 1)\n",
    "obj.seating_capacity(4)"
   ]
  },
  {
   "cell_type": "code",
   "execution_count": 13,
   "id": "aa665ec0",
   "metadata": {},
   "outputs": [
    {
     "name": "stdout",
     "output_type": "stream",
     "text": [
      "Sum:  5  Subtract:  1  Multiply:  18\n"
     ]
    }
   ],
   "source": [
    "# 3.  What is multiple inheritance? Write a python code to demonstrate multiple inheritance.\n",
    "\n",
    "# A- Multiple inheritances: When a child class inherits from multiple parent classes.\n",
    "\n",
    "# Program Starts\n",
    "class pwskills:\n",
    "    def sum(self, a,b):\n",
    "        return a+b\n",
    "class pws():\n",
    "    def sub(self, a,b):\n",
    "        return a-b\n",
    "class pw(pwskills, pws):       # class pw inheriting from parents pws and pwskills\n",
    "    def multiply(self, a,b):\n",
    "        return a*b\n",
    "    \n",
    "obj=pw()\n",
    "x=obj.sum(2,3)\n",
    "y=obj.sub(5,4)\n",
    "z=obj.multiply(6,3)\n",
    "\n",
    "print(\"Sum: \",x,\" Subtract: \",y,\" Multiply: \",z)"
   ]
  },
  {
   "cell_type": "code",
   "execution_count": 6,
   "id": "a84bc759",
   "metadata": {},
   "outputs": [
    {
     "data": {
      "text/plain": [
       "30000"
      ]
     },
     "execution_count": 6,
     "metadata": {},
     "output_type": "execute_result"
    }
   ],
   "source": [
    "# 4. What are getter and setter in python? Create a class and create a getter and a setter \n",
    "#    method in this class.\n",
    "\n",
    "# A- Getters and Setters in python are often used when: We use getters & setters to add \n",
    "#    validation logic around getting and setting a value. To avoid direct access of a class \n",
    "#    field i.e. private variables cannot be accessed directly or modified by external user.\n",
    "#    Getters: These are the methods used in OOPS which helps to access the private attributes  \n",
    "#    from a class. Setters: These are the methods used in OOPS feature which helps to \n",
    "#    set the value to private attributes in a class.\n",
    "\n",
    "# Program starts\n",
    "class bank:\n",
    "    def __init__(self, balance):\n",
    "        self.__balance=balance\n",
    "        \n",
    "    @property\n",
    "    def balance(self):\n",
    "        return self.__balance\n",
    "    \n",
    "    @balance.setter\n",
    "    def balance(self, money):\n",
    "        self.__balance=self.__balance+money\n",
    "\n",
    "obj=bank(25000)\n",
    "obj.balance=5000\n",
    "obj.balance"
   ]
  },
  {
   "cell_type": "code",
   "execution_count": 20,
   "id": "da390677",
   "metadata": {},
   "outputs": [
    {
     "name": "stdout",
     "output_type": "stream",
     "text": [
      "(200, 'Road')\n",
      "(50, 'Road')\n"
     ]
    }
   ],
   "source": [
    "# 5. What is method overriding in python? Write a python code to demonstrate method overriding.\n",
    "\n",
    "# A- Method overriding is a feature of object-oriented programming languages where the subclass \n",
    "#    or child class can provide the program with specific characteristics or a specific implementation\n",
    "#    process of data provided that are already defined in the parent class or superclass. \n",
    "#    When a method in a subclass has the same name, same parameters or signature and same return \n",
    "#    type(or sub-type) as a method in its super-class, then the method in the subclass is said \n",
    "#    to override the method in the super-class.\n",
    "\n",
    "class vehicle:\n",
    "    def __init__(self):\n",
    "        self.range=50\n",
    "        self.route=\"Road\"\n",
    "    def show(self):\n",
    "        return self.range, self.route\n",
    "    \n",
    "class car(vehicle):\n",
    "    def __init__(self):\n",
    "        vehicle.__init__(self)\n",
    "        self.range=200       \n",
    "    def show(self):\n",
    "        return self.range, self.route\n",
    "    \n",
    "obj=car()\n",
    "print(obj.show())\n",
    "obj1=vehicle()\n",
    "print(obj1.show())"
   ]
  }
 ],
 "metadata": {
  "kernelspec": {
   "display_name": "Python 3 (ipykernel)",
   "language": "python",
   "name": "python3"
  },
  "language_info": {
   "codemirror_mode": {
    "name": "ipython",
    "version": 3
   },
   "file_extension": ".py",
   "mimetype": "text/x-python",
   "name": "python",
   "nbconvert_exporter": "python",
   "pygments_lexer": "ipython3",
   "version": "3.9.13"
  }
 },
 "nbformat": 4,
 "nbformat_minor": 5
}
