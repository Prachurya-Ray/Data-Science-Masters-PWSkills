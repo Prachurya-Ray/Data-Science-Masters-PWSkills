{
 "cells": [
  {
   "cell_type": "code",
   "execution_count": 2,
   "id": "18da56f9",
   "metadata": {},
   "outputs": [
    {
     "data": {
      "text/plain": [
       "[1, 3, 5, 7, 9, 11, 13, 15, 17, 19, 21, 23, 25]"
      ]
     },
     "execution_count": 2,
     "metadata": {},
     "output_type": "execute_result"
    }
   ],
   "source": [
    "# 1.  Which keyword is used to create a function? Create a function to return a list of odd \n",
    "#     numbers in the range of 1 to 25.\n",
    "\n",
    "# A- def keyword in python is used for creating a user-defined function.\n",
    "\n",
    "# Program Starts\n",
    "\n",
    "def odd_num():\n",
    "    l=list(range(1,26))\n",
    "    l1=[]\n",
    "    for i in l:\n",
    "        if(i%2 != 0):\n",
    "            l1.append(i)\n",
    "    return l1\n",
    "\n",
    "odd_num()"
   ]
  },
  {
   "cell_type": "code",
   "execution_count": 17,
   "id": "21bab4dc",
   "metadata": {},
   "outputs": [
    {
     "name": "stdout",
     "output_type": "stream",
     "text": [
      "*agrs :  [3, 4, 5]\n",
      "**kwargs :  {'a': 4, 'b': 6, 'c': 8, 'd': 4.5, 'e': 'hi'}\n"
     ]
    }
   ],
   "source": [
    "# 2. Why *args and **kwargs is used in some functions? Create a function each for *args and **kwargs\n",
    "#    to demonstrate their use.\n",
    "\n",
    "# A- *args is used when we want to pass 'n' number of arguments to a function. The function then \n",
    "#    stores the values in tuple form. **kwargs takes 'n' number of dict type arguments and stores \n",
    "#    them as dict type.\n",
    "\n",
    "# *args Program\n",
    "\n",
    "def add(*args,a):\n",
    "    l=[]\n",
    "    for i in args:\n",
    "        if(type(i)==int):\n",
    "            l.append(i+a)\n",
    "    return l\n",
    "\n",
    "print('*agrs : ',add(1,2,3,4.5,a=2))\n",
    "        \n",
    "# **kwargs Program\n",
    "\n",
    "def multiply(**kwargs):\n",
    "    for k,v in kwargs.items():\n",
    "        if(type(v)==int):\n",
    "            kwargs[k]=v*2\n",
    "    return kwargs\n",
    "\n",
    "print('**kwargs : ',multiply(a=2,b=3,c=4,d=4.5,e='hi'))\n",
    "        \n",
    "    "
   ]
  },
  {
   "cell_type": "code",
   "execution_count": 7,
   "id": "8bf5d6b0",
   "metadata": {},
   "outputs": [
    {
     "name": "stdout",
     "output_type": "stream",
     "text": [
      "2\n",
      "4\n",
      "6\n",
      "8\n",
      "10\n"
     ]
    }
   ],
   "source": [
    "# 3. What is an iterator in python? Name the method used to initialise the iterator \n",
    "#    object and the method used for iteration. Use these methods to print the first \n",
    "#    five elements of the given list [2, 4, 6, 8, 10, 12, 14, 16, 18, 20].\n",
    "\n",
    "\n",
    "\n",
    "# A- Iterator in Python is an object that is used to iterate over iterable objects \n",
    "#    like lists, tuples, dicts, and sets. The iterator object is initialized using \n",
    "#    the iter() method. It uses the next() method for iteration.    \n",
    "\n",
    "# Program Starts\n",
    "\n",
    "list=[2,4,6,8,10,12,14,16,18,20]\n",
    "list=iter(list)     # making list an iterator by iter()\n",
    "\n",
    "for i in range(0,5):\n",
    "    print(next(list))  # printing by next()\n"
   ]
  },
  {
   "cell_type": "code",
   "execution_count": 13,
   "id": "87932de4",
   "metadata": {},
   "outputs": [
    {
     "name": "stdout",
     "output_type": "stream",
     "text": [
      "0\n",
      "1\n",
      "1\n",
      "2\n",
      "3\n",
      "5\n",
      "8\n",
      "13\n",
      "21\n",
      "34\n"
     ]
    }
   ],
   "source": [
    "# 4.  What is a generator function in python? Why yield keyword is used? \n",
    "#     Give an example of a generator function.\n",
    "\n",
    "\n",
    "# A-  A generator-function is defined like a normal function, but whenever\n",
    "#     it needs to generate a value, it does so with the yield keyword rather \n",
    "#     than return. It returns an iterator that produces a sequence of values when iterated over.\n",
    "#     Generators are useful when we want to produce a large sequence of values, but we don't want \n",
    "#     to store all of them in memory at once. We should use yield when we want to iterate over a \n",
    "#     sequence, but don’t want to store the entire sequence in memory. Yield is used in generators.\n",
    "#     The yield statement suspends a function’s execution and sends a value back to the caller,\n",
    "#     but retains enough state to enable the function to resume where it left off. When the\n",
    "#     function resumes, it continues execution immediately after the last yield run. This allows\n",
    "#     its code to produce a series of values over time, rather than computing them at once and\n",
    "#     sending them back like a list.\n",
    "\n",
    "# Program Starts\n",
    "def fibo():\n",
    "    m=0\n",
    "    n=1\n",
    "    while True:\n",
    "        yield m    \n",
    "        m,n=n,m+n\n",
    "\n",
    "num=fibo()   # creating object of function fib()\n",
    "\n",
    "for i in range(0,10):\n",
    "    print(next(num))\n",
    "    "
   ]
  },
  {
   "cell_type": "code",
   "execution_count": 3,
   "id": "22bfccf9",
   "metadata": {},
   "outputs": [
    {
     "name": "stdout",
     "output_type": "stream",
     "text": [
      "2\n",
      "3\n",
      "5\n",
      "7\n",
      "11\n",
      "13\n",
      "17\n",
      "19\n",
      "23\n",
      "29\n",
      "31\n",
      "37\n",
      "41\n",
      "43\n",
      "47\n",
      "53\n",
      "59\n",
      "61\n",
      "67\n",
      "71\n"
     ]
    }
   ],
   "source": [
    "# 5.  Create a generator function for prime numbers less than 1000. \n",
    "#     Use the next() method to print the first 20 prime numbers.\n",
    "\n",
    "#program starts\n",
    "def prime():\n",
    "    i=[j for j in range(2,1001)]\n",
    "    for num in i:\n",
    "        n=2\n",
    "        flag=True\n",
    "        while(n<=num/2):\n",
    "            if(num%n==0):\n",
    "                flag=False\n",
    "                break\n",
    "            n=n+1\n",
    "        if (flag):\n",
    "            yield num\n",
    "\n",
    "obj=prime()\n",
    "    \n",
    "for i in range(0,20):\n",
    "    print(next(obj))"
   ]
  },
  {
   "cell_type": "code",
   "execution_count": 2,
   "id": "c197cb14",
   "metadata": {},
   "outputs": [
    {
     "name": "stdout",
     "output_type": "stream",
     "text": [
      "0\n",
      "1\n",
      "1\n",
      "2\n",
      "3\n",
      "5\n",
      "8\n",
      "13\n",
      "21\n",
      "34\n"
     ]
    }
   ],
   "source": [
    "# 6. Write a python program to print the first 10 Fibonacci numbers using a while loop.\n",
    "\n",
    "# program starts\n",
    "m=0\n",
    "n=1\n",
    "i=1\n",
    "while (i<=10):\n",
    "    print(m)\n",
    "    m,n=n,m+n\n",
    "    i=i+1"
   ]
  },
  {
   "cell_type": "code",
   "execution_count": 15,
   "id": "572ca0a2",
   "metadata": {},
   "outputs": [
    {
     "data": {
      "text/plain": [
       "['p', 'w', 's', 'k', 'i', 'l', 'l', 's']"
      ]
     },
     "execution_count": 15,
     "metadata": {},
     "output_type": "execute_result"
    }
   ],
   "source": [
    "# 7. Write a List Comprehension to iterate through the given string: ‘pwskills’.\n",
    "#    Expected output: ['p', 'w', 's', 'k', 'i', 'l', 'l', 's'] \n",
    "\n",
    "# program starts\n",
    "str='pwskills'\n",
    "l=[i for i in str]\n",
    "l"
   ]
  },
  {
   "cell_type": "code",
   "execution_count": 5,
   "id": "54cfed6e",
   "metadata": {},
   "outputs": [
    {
     "name": "stdout",
     "output_type": "stream",
     "text": [
      "Enter number to check : 1234321\n",
      "Palindrome\n"
     ]
    }
   ],
   "source": [
    "# 8. Write a python program to check if a given number is Palindrome or not using a while loop.\n",
    "\n",
    "# program starts\n",
    "number=int(input(\"Enter number to check : \"))\n",
    "num=number\n",
    "n=0\n",
    "while(num):\n",
    "    n=(n*10)+(num%10)\n",
    "    num=int(num/10)\n",
    "if(n==number):\n",
    "    print(\"Palindrome\")\n",
    "else:\n",
    "    print(\"Not Palindrome\")\n",
    "     "
   ]
  },
  {
   "cell_type": "code",
   "execution_count": 3,
   "id": "c45d7a0d",
   "metadata": {},
   "outputs": [
    {
     "data": {
      "text/plain": [
       "[1,\n",
       " 3,\n",
       " 5,\n",
       " 7,\n",
       " 9,\n",
       " 11,\n",
       " 13,\n",
       " 15,\n",
       " 17,\n",
       " 19,\n",
       " 21,\n",
       " 23,\n",
       " 25,\n",
       " 27,\n",
       " 29,\n",
       " 31,\n",
       " 33,\n",
       " 35,\n",
       " 37,\n",
       " 39,\n",
       " 41,\n",
       " 43,\n",
       " 45,\n",
       " 47,\n",
       " 49,\n",
       " 51,\n",
       " 53,\n",
       " 55,\n",
       " 57,\n",
       " 59,\n",
       " 61,\n",
       " 63,\n",
       " 65,\n",
       " 67,\n",
       " 69,\n",
       " 71,\n",
       " 73,\n",
       " 75,\n",
       " 77,\n",
       " 79,\n",
       " 81,\n",
       " 83,\n",
       " 85,\n",
       " 87,\n",
       " 89,\n",
       " 91,\n",
       " 93,\n",
       " 95,\n",
       " 97,\n",
       " 99]"
      ]
     },
     "execution_count": 3,
     "metadata": {},
     "output_type": "execute_result"
    }
   ],
   "source": [
    "# 9. Write a code to print odd numbers from 1 to 100 using list comprehension.\n",
    "\n",
    "# program starts\n",
    "l=[i for i in range(1,101)]\n",
    "odd=[i for i in l if i%2 != 0]\n",
    "odd"
   ]
  },
  {
   "cell_type": "code",
   "execution_count": null,
   "id": "ccb52aab",
   "metadata": {},
   "outputs": [],
   "source": []
  }
 ],
 "metadata": {
  "kernelspec": {
   "display_name": "Python 3 (ipykernel)",
   "language": "python",
   "name": "python3"
  },
  "language_info": {
   "codemirror_mode": {
    "name": "ipython",
    "version": 3
   },
   "file_extension": ".py",
   "mimetype": "text/x-python",
   "name": "python",
   "nbconvert_exporter": "python",
   "pygments_lexer": "ipython3",
   "version": "3.9.13"
  }
 },
 "nbformat": 4,
 "nbformat_minor": 5
}
