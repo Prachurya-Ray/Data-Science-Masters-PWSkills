{
 "cells": [
  {
   "cell_type": "code",
   "execution_count": 2,
   "id": "8dec9f49",
   "metadata": {},
   "outputs": [
    {
     "name": "stdout",
     "output_type": "stream",
     "text": [
      "4134711838987085478833841242112000\n"
     ]
    }
   ],
   "source": [
    "# 1.  Create a function which will take a list as an argument and return the product of \n",
    "#     all the numbers after creating a flat list.\n",
    "\n",
    "# Program Stated\n",
    "list1 = [1,2,3,4, [44,55,66, True], False, (34,56,78,89,34), {1,2,3,3,2,1}, \n",
    "{1:34, \"key2\": [55, 67, 78, 89], 4: (45, 22, 61, 34)}, [56, 'data science'], 'Machine Learning']\n",
    "\n",
    "list2=[]\n",
    "\n",
    "for i in list1:\n",
    "    if(type(i)==list):\n",
    "        for j in i:\n",
    "            if(type(j)==int):\n",
    "                list2.append(j)\n",
    "    \n",
    "    if(type(i)==set):\n",
    "        for j in i:\n",
    "            if(type(j)==int):\n",
    "                list2.append(j)\n",
    "    \n",
    "    if(type(i)==tuple):\n",
    "        for j in i:\n",
    "            if(type(j)==int):\n",
    "                list2.append(j)\n",
    "\n",
    "    if(type(i)==dict):\n",
    "        list3=[j for j in i.keys()]\n",
    "        list4=[j for j in i.values()]\n",
    "        list3=list3+list4\n",
    "        for l in list3:\n",
    "            \n",
    "            if(type(l)==list):\n",
    "                for j in l:\n",
    "                    if(type(j)==int):\n",
    "                        list2.append(j)\n",
    "\n",
    "            if(type(l)==set):\n",
    "                for j in l:\n",
    "                    if(type(j)==int):\n",
    "                        list2.append(j)\n",
    "\n",
    "            if(type(l)==tuple):\n",
    "                for j in l:\n",
    "                    if(type(j)==int):\n",
    "                        list2.append(j)\n",
    "\n",
    "            else:\n",
    "                if(type(l)==int):\n",
    "                    list2.append(l)\n",
    "            \n",
    "    else:\n",
    "        if(type(i)==int):\n",
    "            list2.append(i)\n",
    "\n",
    "product=1\n",
    "\n",
    "for i in list2:\n",
    "    product=product*i\n",
    "    \n",
    "print(product)"
   ]
  },
  {
   "cell_type": "code",
   "execution_count": 20,
   "id": "f949cc83",
   "metadata": {},
   "outputs": [
    {
     "name": "stdout",
     "output_type": "stream",
     "text": [
      "r$dzmg$gl$yvxlnv$z$wzgz$hxrvmgrhg.\n"
     ]
    }
   ],
   "source": [
    "# 2. Write a python program for encrypting a message sent to you by your friend. The logic of \n",
    "#    encryption should be such that, for a the output should be z. For b, the output should be y. \n",
    "#    For c, the output should be x respectively. Also, the whitespace should be replaced with a \n",
    "#    dollar sign. Keep the punctuation marks unchanged.\n",
    "\n",
    "# Program Starts\n",
    "s = \"I want to become a Data Scientist.\"\n",
    "s=s.lower()\n",
    "t=\"\"\n",
    "for i in s:\n",
    "    if i==\" \":\n",
    "        t=t+\"$\"\n",
    "    else:\n",
    "        if(i>='a' and i<='m'):\n",
    "            temp=(ord('m')-ord(i))+ord('n')\n",
    "            t=t+chr(temp)\n",
    "        elif(i>='n' and i<='z'):\n",
    "            temp=ord('m')-(ord(i)-ord('n'))\n",
    "            t=t+chr(temp)\n",
    "        else:\n",
    "            t=t+i\n",
    "print(t)"
   ]
  }
 ],
 "metadata": {
  "kernelspec": {
   "display_name": "Python 3 (ipykernel)",
   "language": "python",
   "name": "python3"
  },
  "language_info": {
   "codemirror_mode": {
    "name": "ipython",
    "version": 3
   },
   "file_extension": ".py",
   "mimetype": "text/x-python",
   "name": "python",
   "nbconvert_exporter": "python",
   "pygments_lexer": "ipython3",
   "version": "3.9.13"
  }
 },
 "nbformat": 4,
 "nbformat_minor": 5
}
