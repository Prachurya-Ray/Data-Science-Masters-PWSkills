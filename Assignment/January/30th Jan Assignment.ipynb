{
 "cells": [
  {
   "cell_type": "code",
   "execution_count": 7,
   "id": "b24fd179",
   "metadata": {},
   "outputs": [
    {
     "name": "stdout",
     "output_type": "stream",
     "text": [
      "Enter your percentage: 92\n",
      "Your Final Grade is:  A\n"
     ]
    }
   ],
   "source": [
    "# 1. WAP to take percentage from user and show grade.\n",
    "\n",
    "#program starts\n",
    "percentage=int(input(\"Enter your percentage: \"))\n",
    "if (percentage>90):\n",
    "    grade=\"A\"\n",
    "elif (percentage>80):\n",
    "    grade=\"B\"\n",
    "elif (percentage>=60):\n",
    "    grade=\"C\"\n",
    "else:\n",
    "    grade=\"D\"\n",
    "print(\"Your Final Grade is: \",grade)"
   ]
  },
  {
   "cell_type": "code",
   "execution_count": 5,
   "id": "6696e873",
   "metadata": {},
   "outputs": [
    {
     "name": "stdout",
     "output_type": "stream",
     "text": [
      "Enter price of the bike: 5000\n",
      "Road Tax amount is:  250.0\n"
     ]
    }
   ],
   "source": [
    "# 2. Write a program to accept cost price of a bike and print the road tax.\n",
    "\n",
    "#program starts\n",
    "cost=int(input(\"Enter price of the bike: \"))\n",
    "if (cost>100000):\n",
    "    tax=cost*0.15\n",
    "elif (cost>50000):\n",
    "    tax=cost*.1\n",
    "else:\n",
    "    tax=cost*0.05\n",
    "print(\"Road Tax amount is: \",tax)"
   ]
  },
  {
   "cell_type": "code",
   "execution_count": 9,
   "id": "4ac39f44",
   "metadata": {},
   "outputs": [
    {
     "name": "stdout",
     "output_type": "stream",
     "text": [
      "Enter your city name: jaipur\n",
      "Your Monument is Jal Mahal\n"
     ]
    }
   ],
   "source": [
    "# 3. Accept any city from the user and display monument of that city\n",
    "\n",
    "#program starts\n",
    "city=input(\"Enter your city name: \")\n",
    "if (city=='Delhi' or city=='delhi'):\n",
    "    monument='Red Fort'\n",
    "elif (city=='Agra' or city=='agra'):\n",
    "    monument='Taj Mahal'\n",
    "elif (city=='Jaipur' or city=='jaipur'):\n",
    "    monument='Jal Mahal'\n",
    "print(\"Your Monument is\",monument)"
   ]
  },
  {
   "cell_type": "code",
   "execution_count": 19,
   "id": "116a3e9b",
   "metadata": {},
   "outputs": [
    {
     "name": "stdout",
     "output_type": "stream",
     "text": [
      "Enter a number: 105\n",
      "3\n"
     ]
    }
   ],
   "source": [
    "# 4. Check how many times a given number can be divided by 3 before it is less than or equal to 10\n",
    "\n",
    "#program starts\n",
    "num=int(input(\"Enter a number: \"))\n",
    "count=0\n",
    "while(num>10):\n",
    "    num=num/3\n",
    "    count=count+1\n",
    "    if(num<=10):\n",
    "        break\n",
    "print(count)"
   ]
  },
  {
   "cell_type": "code",
   "execution_count": 21,
   "id": "2f9e8819",
   "metadata": {},
   "outputs": [
    {
     "name": "stdout",
     "output_type": "stream",
     "text": [
      "Total:  11\n"
     ]
    }
   ],
   "source": [
    "# 5. Why and when to use while loop in python give a detailed description with example\n",
    "\n",
    "#Ans- While loop is used when we have to run the loop till the condition is true. Here unlike for loop we may/mayn't\n",
    "#     declare or initialize variable. It only checks for the condition. In for loop we can traverse in a list but in\n",
    "#     while loop we can't do simply that way. The while loop requires relevant variables to be ready\n",
    "\n",
    "#program starts\n",
    "flag=True\n",
    "count=0\n",
    "while(flag):\n",
    "    count=count+1\n",
    "    if(count>10):\n",
    "        flag=False\n",
    "print(\"Total: \",count)"
   ]
  },
  {
   "cell_type": "code",
   "execution_count": 30,
   "id": "54c66f67",
   "metadata": {},
   "outputs": [
    {
     "name": "stdout",
     "output_type": "stream",
     "text": [
      "-----Square-----\n",
      "Enter side: 5\n",
      " *  *  *  *  * \n",
      " *  *  *  *  * \n",
      " *  *  *  *  * \n",
      " *  *  *  *  * \n",
      " *  *  *  *  * \n",
      "\n",
      "-----Triangle-----\n",
      "Enter Base/Height: 5\n",
      " * \n",
      " *  * \n",
      " *  *  * \n",
      " *  *  *  * \n",
      " *  *  *  *  * \n",
      "\n",
      "-----Inverted Triangle-----\n",
      "Enter Base/Height: 5\n",
      " *  *  *  *  * \n",
      " *  *  *  * \n",
      " *  *  * \n",
      " *  * \n",
      " * \n"
     ]
    }
   ],
   "source": [
    "# 6. Use nested while loop to print 3 different patterns\n",
    "\n",
    "#Pattern 1\n",
    "print(\"-----Square-----\")\n",
    "n=int(input(\"Enter side: \"))\n",
    "i=n\n",
    "while(i):\n",
    "    j=n\n",
    "    while(j):\n",
    "        print(\" * \",end='')\n",
    "        j=j-1\n",
    "    print()\n",
    "    i=i-1\n",
    "print()\n",
    "\n",
    "#Pattern 2\n",
    "print(\"-----Triangle-----\")\n",
    "n=int(input(\"Enter Base/Height: \"))\n",
    "i=n\n",
    "while(i):\n",
    "    j=1\n",
    "    while(j<=(n-i+1)):\n",
    "        print(\" * \",end='')\n",
    "        j=j+1\n",
    "    print()\n",
    "    i=i-1\n",
    "print()\n",
    "\n",
    "#Pattern 3\n",
    "print(\"-----Inverted Triangle-----\")\n",
    "n=int(input(\"Enter Base/Height: \"))\n",
    "i=n\n",
    "while(i):\n",
    "    j=1\n",
    "    while(j<=i):\n",
    "        print(\" * \",end='')\n",
    "        j=j+1\n",
    "    print()\n",
    "    i=i-1"
   ]
  },
  {
   "cell_type": "code",
   "execution_count": 31,
   "id": "935d366b",
   "metadata": {},
   "outputs": [
    {
     "name": "stdout",
     "output_type": "stream",
     "text": [
      "10\n",
      "9\n",
      "8\n",
      "7\n",
      "6\n",
      "5\n",
      "4\n",
      "3\n",
      "2\n",
      "1\n"
     ]
    }
   ],
   "source": [
    "# 7. Reverse a while loop to print from 10 to 1\n",
    "\n",
    "#program starts\n",
    "num=10\n",
    "while(num):\n",
    "    print(num)\n",
    "    num=num-1"
   ]
  },
  {
   "cell_type": "code",
   "execution_count": 32,
   "id": "e07858f5",
   "metadata": {},
   "outputs": [
    {
     "name": "stdout",
     "output_type": "stream",
     "text": [
      "10\n",
      "9\n",
      "8\n",
      "7\n",
      "6\n",
      "5\n",
      "4\n",
      "3\n",
      "2\n",
      "1\n"
     ]
    }
   ],
   "source": [
    "# 7. Reverse a while loop to print from 10 to 1\n",
    "\n",
    "#program starts\n",
    "num=10\n",
    "while(num):\n",
    "    print(num)\n",
    "    num=num-1"
   ]
  },
  {
   "cell_type": "code",
   "execution_count": null,
   "id": "3a6bfc84",
   "metadata": {},
   "outputs": [],
   "source": []
  }
 ],
 "metadata": {
  "kernelspec": {
   "display_name": "Python 3 (ipykernel)",
   "language": "python",
   "name": "python3"
  },
  "language_info": {
   "codemirror_mode": {
    "name": "ipython",
    "version": 3
   },
   "file_extension": ".py",
   "mimetype": "text/x-python",
   "name": "python",
   "nbconvert_exporter": "python",
   "pygments_lexer": "ipython3",
   "version": "3.9.13"
  }
 },
 "nbformat": 4,
 "nbformat_minor": 5
}
